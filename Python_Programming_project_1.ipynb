{
  "nbformat": 4,
  "nbformat_minor": 0,
  "metadata": {
    "colab": {
      "provenance": []
    },
    "kernelspec": {
      "name": "python3",
      "display_name": "Python 3"
    },
    "language_info": {
      "name": "python"
    }
  },
  "cells": [
    {
      "cell_type": "code",
      "execution_count": null,
      "metadata": {
        "id": "D4trkigDil-K"
      },
      "outputs": [],
      "source": [
        "def quiz():\n",
        "    # Define questions, options, and correct answers\n",
        "    questions = {\n",
        "        \"What is the capital of France?\": {\"a\": \"Paris\", \"b\": \"Berlin\", \"c\": \"London\", \"d\": \"Rome\"},\n",
        "        \"What is 2 + 2?\": {\"a\": \"3\", \"b\": \"4\", \"c\": \"5\", \"d\": \"6\"},\n",
        "        \"Who wrote 'Romeo and Juliet'?\": {\"a\": \"Shakespeare\", \"b\": \"Hemingway\", \"c\": \"Tolstoy\", \"d\": \"Fitzgerald\"}\n",
        "        # Add more questions as needed\n",
        "    }\n",
        "\n",
        "    # Define scoring mechanism\n",
        "    score = 0\n",
        "    total_questions = len(questions)\n",
        "\n",
        "    # Iterate through each question\n",
        "    for question, options in questions.items():\n",
        "        print(question)\n",
        "        # Display options\n",
        "        for option, text in options.items():\n",
        "            print(option + \": \" + text)\n",
        "\n",
        "        # Get user input\n",
        "        user_answer = input(\"Enter your answer (a, b, c, or d): \").lower()\n",
        "\n",
        "        # Validate user input\n",
        "        while user_answer not in options.keys():\n",
        "            print(\"Invalid input. Please enter a valid option.\")\n",
        "            user_answer = input(\"Enter your answer (a, b, c, or d): \").lower()\n",
        "\n",
        "        # Check user's answer\n",
        "        if user_answer == \"a\":\n",
        "            user_response = options[\"a\"]\n",
        "        elif user_answer == \"b\":\n",
        "            user_response = options[\"b\"]\n",
        "        elif user_answer == \"c\":\n",
        "            user_response = options[\"c\"]\n",
        "        else:\n",
        "            user_response = options[\"d\"]\n",
        "\n",
        "        # Provide feedback\n",
        "        if user_response.lower() == questions[question][\"b\"].lower():\n",
        "            print(\"Correct!\")\n",
        "            score += 1\n",
        "        else:\n",
        "            print(\"Incorrect! The correct answer is:\", questions[question][\"b\"])\n",
        "        print()  # Add a newline for better formatting\n",
        "\n",
        "    # Display final score\n",
        "    print(\"Quiz completed!\")\n",
        "    print(\"You got\", score, \"out of\", total_questions, \"questions correct.\")\n",
        "    print(\"Your score is:\", score, \"/\", total_questions)\n",
        "\n",
        "if __name__ == \"__main__\":\n",
        "    quiz()\n"
      ]
    }
  ]
}